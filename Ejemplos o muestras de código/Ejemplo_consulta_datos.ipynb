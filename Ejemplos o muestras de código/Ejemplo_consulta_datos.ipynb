{
 "cells": [
  {
   "attachments": {},
   "cell_type": "markdown",
   "metadata": {},
   "source": [
    "<div style=\"\n",
    "  padding: 30px;\n",
    "  text-align: center;\" class='row'>\n",
    "<div style=\"float:left;width: 15%;\" class='column'><a href=\"https://www.colombiacompra.gov.co\"><img alt=\"Logo Colombia Compra Eficiente\" id=\"logocce\" src=\"https://www.colombiacompra.gov.co/sites/cce_public/files/Images/logocce.png\" style=\"height: 45px;\"></a></div>\n",
    "    <div style=\"float:left;width: 70%;\" class='column'>\n",
    "        <h1> Conexión al DataLake de Colombia Compra Eficiente EMAE\n",
    "        </h1> \n",
    "    </div>\n",
    "<div style=\"float:left;width: 15%;\" class='column'><a href=\"https://www.dnp.gov.co/\" target=\"_blank\"><img class=\"float-right\" id=\"logodnp\" src=\"https://www.dnp.gov.co/img/logoNuevo.jpg\" style=\"width: 200px;\"></a></div>\n",
    "</div>"
   ]
  },
  {
   "attachments": {},
   "cell_type": "markdown",
   "metadata": {},
   "source": [
    "## 1. IDENTIFICACIÓN DEL INSUMO\n",
    "\n",
    "|||\n",
    "|:--|:--|\n",
    "|**Fecha**|Mayo 2023|\n",
    "|**Ciudad**|Bogotá D.C.|\n",
    "|**Esquema de presentación del insumo**|Cuaderno Jupyter|\n",
    "|**Título del insumo**| **Conexión al DataLake**|\n",
    "|**Descripción y alcance**|Script para la consulta de recursos en el datalake para EMAE.|\n",
    "|**Periodicidad del insumo**|único|\n",
    "|**Solicitante**|No aplica|\n",
    "|**Versión del insumo**|Final|"
   ]
  },
  {
   "attachments": {},
   "cell_type": "markdown",
   "metadata": {},
   "source": [
    "## 2. DESTINO Y AUTORES DEL INFORME / INSUMO\n",
    "\n",
    "|||\n",
    "|:--|:--|\n",
    "|**Destinatario**|<table align='left'><tr><td>*Nombre:*</td> <td>Equipo analítica EMAE</td></tr> <tr><td>*Cargo:*</td> <td>NA</td></tr>  <tr><td>*Área:*</td> <td>Subdirección de estudios de Mercado y Abastecimiento Estratégico – EMAE</td></tr></table>|\n",
    "|**Autores**|<table><tr><td>*Nombre:*</td> <td>Equipo de Datos -GAEC</td></tr><tr><td>*Área:*</td> <td>Subdirección de estudios de Mercado y Abastecimiento Estratégico – EMAE.</td></tr></table>|\n",
    "|**Aprobación**|<table><tr><td>*Nombre:*</td> <td>Ricardo Suarez</td></tr> <tr><td>*Cargo:*</td> <td>Subdirector Estudios de Mercado y Abastecimiento Estratégico</td></tr>  <tr><td>*Área:*</td> <td>Subdirección de estudios de Mercado y Abastecimiento Estratégico – EMAE.</td></tr></table>|"
   ]
  },
  {
   "attachments": {},
   "cell_type": "markdown",
   "metadata": {},
   "source": [
    "En este cuaderno encontrará un ejemplo de cómo consultar datos del datalake de Colombia Compra Eficiente. Para ello, se utilizará el lenguaje de programación Python y la librería pandas.\n",
    "\n",
    "Adicionalmente debe tener:\n",
    "\n",
    "- Python 3.x instalado\n",
    "- Biblioteca `azure-storage-blob` instalada\n",
    "- Credenciales de acceso al datalake"
   ]
  },
  {
   "attachments": {},
   "cell_type": "markdown",
   "metadata": {},
   "source": [
    "## Conexión al datalake\n",
    "\n",
    "Consulta de archivos de configuración y conexión al datalake.\n",
    "\n",
    "```python\n",
    "import os\n",
    "import pandas as pd\n",
    "from azure.storage.blob import BlobServiceClient, BlobClient, ContainerClient, __version__\n",
    "import configparser\n",
    "from configparser import ExtendedInterpolation\n",
    "## Cargo las credenciales de acceso al datalake\n",
    "config = configparser.ConfigParser(interpolation=ExtendedInterpolation())\n",
    "config.read('../Archivos de configuración/config.ini')\n",
    "\n",
    "# Obtener los valores de configuración\n",
    "account_name = config.get('ConexionDatalake', 'account_name')\n",
    "sas_token = config.get('ConexionDatalake', f'sas_token')\n",
    "url_blob = config.get('ConexionDatalake', 'url_blob')\n",
    "\n",
    "\n",
    "# Utilizar los valores de configuración\n",
    "print(f'Account Name: {account_name}')\n",
    "print(f'SAS Token: {sas_token}')\n",
    "print(f'URL Blob: {url_blob}')\n",
    "```\n"
   ]
  },
  {
   "cell_type": "code",
   "execution_count": null,
   "metadata": {},
   "outputs": [],
   "source": [
    "import os\n",
    "import pandas as pd\n",
    "from azure.storage.blob import BlobServiceClient, BlobClient, ContainerClient, __version__\n",
    "import configparser\n",
    "from configparser import ExtendedInterpolation\n",
    "## Cargo las credenciales de acceso al datalake\n",
    "config = configparser.ConfigParser(interpolation=ExtendedInterpolation())\n",
    "config.read('../Archivos de configuración/config.ini')\n",
    "\n",
    "# Obtener los valores de configuración\n",
    "account_name = config.get('ConexionDatalake', 'account_name')\n",
    "sas_token = config.get('ConexionDatalake', f'sas_token')\n",
    "url_blob = config.get('ConexionDatalake', 'url_blob')\n",
    "\n",
    "\n",
    "# Utilizar los valores de configuración\n",
    "print(f'Account Name: {account_name}')\n",
    "print(f'SAS Token: {sas_token}')\n",
    "print(f'URL Blob: {url_blob}')"
   ]
  },
  {
   "attachments": {},
   "cell_type": "markdown",
   "metadata": {},
   "source": [
    "En este caso, usted debe tener un archivo de configuración llamado `config.ini` en la carpeta `Archivos de configuración` con la siguiente información:\n",
    "\n",
    "```ini\n",
    "[ConexionDatalake]\n",
    "account_name = <account_name>\n",
    "sas_token = <sas_token>\n",
    "datalake_path = <datalake_path>\n",
    "url_blob = <url_blob>\n",
    "```\n",
    "\n",
    "## Consulta de archivos\n",
    "\n",
    "Ahora vamos a consultar el archivo limpio que está en el datalake. Para ello, vamos a utilizar la función `list_blobs` de la librería `azure.storage.blob`.\n",
    "\n",
    "```python\n",
    "# Crear el cliente del datalake\n",
    "connect_str = f'DefaultEndpointsProtocol=https;AccountName={account_name};AccountKey={sas_token};EndpointSuffix=core.windows.net'\n",
    "blob_service_client = BlobServiceClient.from_connection_string(connect_str)\n",
    "\n",
    "# Obtener el contenedor\n",
    "container_client = blob_service_client.get_container_client('name_blob')\n",
    "\n",
    "# Listar los archivos del contenedor\n",
    "\n",
    "blobs_list = container_client.list_blobs()\n",
    "\n",
    "# Crear un dataframe con los archivos del contenedor\n",
    "df = pd.DataFrame(blobs_list)\n",
    "\n",
    "# Filtrar los archivos que contengan la palabra \"limpio\"\n",
    "df = df[df['name'].str.contains('limpio')]\n",
    "\n",
    "# Mostrar los archivos\n",
    "\n",
    "display(df)\n",
    "```\n"
   ]
  },
  {
   "cell_type": "code",
   "execution_count": null,
   "metadata": {},
   "outputs": [],
   "source": [
    "# Conexión a la cuenta de almacenamiento de Azure utilizando el token SAS\n",
    "connect_str = f\"BlobEndpoint={url_blob};SharedAccessSignature={sas_token}\"\n",
    "blob_service_client = BlobServiceClient.from_connection_string(connect_str)\n",
    "\n",
    "# Obtener el contenedor\n",
    "container_client = blob_service_client.get_container_client('datosemae')\n",
    "\n",
    "# Listar los archivos del contenedor\n",
    "\n",
    "blobs_list = container_client.list_blobs()\n",
    "\n",
    "blobs_list=list(blobs_list)\n",
    "\n",
    "## Crear un dataframe con los archivos del contenedor\n",
    "\n",
    "keys=list(blobs_list[0].keys())\n",
    "\n",
    "lista=[]\n",
    "for i in blobs_list:\n",
    "    lista_simple=[]\n",
    "    for j in keys:\n",
    "        try:\n",
    "            lista_simple.append(i[j])\n",
    "        except:\n",
    "            lista_simple.append(None)\n",
    "    lista.append(lista_simple)\n",
    "\n",
    "df=pd.DataFrame(lista,columns=keys)\n",
    "\n",
    "df=df[['name','container','size']]"
   ]
  },
  {
   "cell_type": "code",
   "execution_count": null,
   "metadata": {},
   "outputs": [],
   "source": [
    "df"
   ]
  },
  {
   "attachments": {},
   "cell_type": "markdown",
   "metadata": {},
   "source": [
    "Ahora usemos un archivo de ejemplo para consultar los datos. En este caso, vamos a consultar el archivo `contratos_limpio.csv`.\n",
    "\n",
    "```python\n",
    "# Obtener el archivo\n",
    "blob_client = blob_service_client.get_blob_client(container='name_blob', blob='ruta_file')\n",
    "\n",
    "# Usar pandas para leer el archivo\n",
    "df = pd.read_csv(blob_client.download_blob())\n",
    "\n",
    "\n",
    "# Mostrar los datos\n",
    "display(df.head())\n",
    "```\n",
    "\n",
    "\n"
   ]
  },
  {
   "cell_type": "code",
   "execution_count": null,
   "metadata": {},
   "outputs": [],
   "source": [
    "# Obtener el archivo\n",
    "blob_client = blob_service_client.get_blob_client(container='name_blob', blob='ruta_file')\n",
    "\n",
    "# Usar pandas para leer el archivo\n",
    "df = pd.read_csv(blob_client.download_blob())\n",
    "\n",
    "\n",
    "# Mostrar los datos\n",
    "display(df.head())"
   ]
  },
  {
   "attachments": {},
   "cell_type": "markdown",
   "metadata": {},
   "source": [
    "## Cierre\n",
    "\n",
    "En este cuaderno se mostró cómo consultar datos del datalake de Colombia Compra Eficiente. Para ello, se utilizó el lenguaje de programación Python y la librería pandas."
   ]
  }
 ],
 "metadata": {
  "kernelspec": {
   "display_name": "base",
   "language": "python",
   "name": "python3"
  },
  "language_info": {
   "codemirror_mode": {
    "name": "ipython",
    "version": 3
   },
   "file_extension": ".py",
   "mimetype": "text/x-python",
   "name": "python",
   "nbconvert_exporter": "python",
   "pygments_lexer": "ipython3",
   "version": "3.10.6"
  },
  "orig_nbformat": 4
 },
 "nbformat": 4,
 "nbformat_minor": 2
}
